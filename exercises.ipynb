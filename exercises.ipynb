{
 "cells": [
  {
   "cell_type": "code",
   "execution_count": null,
   "metadata": {
    "collapsed": false
   },
   "outputs": [],
   "source": [
    "###################################################\n",
    "#\n",
    "#  ORDERS!\n",
    "#\n",
    "###################################################\n",
    "\n",
    "# This data is a set of \"orders\" taken by a fictional\n",
    "# online store that sells model cars. Each order\n",
    "# can consist of multiple \"line items\", or multiple\n",
    "# products. \n",
    "#\n",
    "# Each product is sold for a given price per unit and\n",
    "# each customer can buy multiple units of each product.\n",
    "#\n",
    "# City and country refer to the customer's city/country.\n"
   ]
  },
  {
   "cell_type": "code",
   "execution_count": 5,
   "metadata": {
    "collapsed": false
   },
   "outputs": [],
   "source": [
    "#\n",
    "# 1) \n",
    "# Read in the `orders.json` as a list of dictionaries.\n",
    "# Take a look at one of the dictionaries and note \n",
    "# the format. \n",
    "\n"
   ]
  },
  {
   "cell_type": "code",
   "execution_count": null,
   "metadata": {
    "collapsed": false
   },
   "outputs": [],
   "source": [
    "#\n",
    "# 2) \n",
    "# Draw out for yourself a set of databases schemas\n",
    "# that fulfill the 3rd-normalized-form requirements\n",
    "# to store this data.\n",
    "# \n",
    "# Transform the data into pandas dataframes\n",
    "# that reflect the tables you would store in \n",
    "# a database in 3NF.\n",
    "#\n",
    "# Make sure to state which column(s) are the PK!\n",
    "# (it could be the index!)\n",
    "\n"
   ]
  }
 ],
 "metadata": {
  "kernelspec": {
   "argv": [
    "python",
    "-m",
    "ipykernel_launcher",
    "-f",
    "{connection_file}"
   ],
   "display_name": "Python 3",
   "env": null,
   "interrupt_mode": "signal",
   "language": "python",
   "metadata": null,
   "name": "python3"
  },
  "name": "exercises.ipynb"
 },
 "nbformat": 4,
 "nbformat_minor": 4
}
